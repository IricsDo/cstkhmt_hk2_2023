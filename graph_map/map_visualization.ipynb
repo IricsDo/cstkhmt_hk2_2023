{
 "cells": [
  {
   "cell_type": "code",
   "execution_count": 1,
   "metadata": {},
   "outputs": [],
   "source": [
    "import time\n",
    "import folium\n",
    "import random\n",
    "import datetime\n",
    "import json\n",
    "import shortest_path as spath\n",
    "from IPython.display import display, HTML\n",
    "import ipywidgets as widgets"
   ]
  },
  {
   "cell_type": "code",
   "execution_count": 2,
   "metadata": {},
   "outputs": [
    {
     "name": "stdout",
     "output_type": "stream",
     "text": [
      "Algorithm already!                                                              \n"
     ]
    }
   ],
   "source": [
    "slo = None\n",
    "with spath.aloader.Loader(\"Loading Algorithm...\", \"Algorithm already!\"):\n",
    "    slo = spath.I_Graph()\n",
    "    slo.load_graph('data/Road/Phu_Nhuan_Road.geojson')\n",
    "    slo.load_algorithm()"
   ]
  },
  {
   "cell_type": "code",
   "execution_count": 3,
   "metadata": {},
   "outputs": [],
   "source": [
    "def run_find_path(slo, start_vertex, end_vertex, algorithm):\n",
    "    geojson_line = None\n",
    "    \n",
    "    print(f\"\\n===>>> Calculating shortest-path between {start_vertex} and {end_vertex} <<<===\")\n",
    "    print('Please wating ...')\n",
    "\n",
    "    start_time = time.time()\n",
    "    if algorithm == 'dijkstra':\n",
    "        geojson_line = slo.run_dijkstra(start_vertex, end_vertex, False)\n",
    "    elif algorithm == 'bellman_ford':\n",
    "        geojson_line = slo.run_bellman_ford(start_vertex, end_vertex, False)\n",
    "    elif algorithm == 'floyd_warshall':\n",
    "        geojson_line = slo.run_floyd_warshall(start_vertex, end_vertex, False)\n",
    "\n",
    "    executed_time = round(time.time() - start_time)\n",
    "    print(\"\\n\\nTime executed: {}\".format(str(datetime.timedelta(seconds=executed_time))))\n",
    "\n",
    "    print('\\n')\n",
    "    \n",
    "    return geojson_line"
   ]
  },
  {
   "cell_type": "code",
   "execution_count": 4,
   "metadata": {},
   "outputs": [],
   "source": [
    "def show_map(geojson_line):\n",
    "\n",
    "    with open('data/Polygon/Phu_Nhuan_Polygon.geojson', 'r') as f:\n",
    "        administrator_layer = json.load(f)\n",
    "        \n",
    "    center = (10.8008879,106.6691939)\n",
    "    m = folium.Map(center, zoom_start=15)\n",
    "\n",
    "    admin_group = folium.FeatureGroup(name='Administrator Layer')\n",
    "    line_group = folium.FeatureGroup(name='LineString')\n",
    "\n",
    "    folium.GeoJson(administrator_layer, name='Administrator Layer', style_function=lambda x: {'fillColor': 'blue', 'fillOpacity': 0.2}).add_to(admin_group)\n",
    "    folium.GeoJson(geojson_line, name='LineString', style_function=lambda x: {'color': 'red', 'weight': 5}).add_to(line_group)\n",
    "\n",
    "    admin_group.add_to(m)\n",
    "    line_group.add_to(m)\n",
    "    folium.LayerControl().add_to(m)\n",
    "\n",
    "    return m"
   ]
  },
  {
   "cell_type": "code",
   "execution_count": 5,
   "metadata": {},
   "outputs": [],
   "source": [
    "start_vertex = str(random.randint(0, slo.get_nodes() - 1))\n",
    "end_vertex = str(random.randint(0, slo.get_nodes() - 1))"
   ]
  },
  {
   "cell_type": "markdown",
   "metadata": {},
   "source": [
    "start_vertex = 91\n",
    "end_vertex = 5422"
   ]
  },
  {
   "cell_type": "code",
   "execution_count": 6,
   "metadata": {},
   "outputs": [
    {
     "name": "stdout",
     "output_type": "stream",
     "text": [
      "\n",
      "===>>> Calculating shortest-path between 91 and 5422 <<<===\n",
      "Please wating ...\n",
      "\n",
      "The Dijkstra's Algorithm starting result:\n",
      "Path: 91->92->93->94->95->96->97->98->99->100->101->102->103->104->105->106->107->108->109->110->111->112->113->114->115->116->117->118->119->120->121->122->123->124->125->126->127->128->129->130->131->132->133->134->135->136->137->138->139->140->141->142->143->144->145->146->147->148->149->150->151->152->153->154->155->156->157->158->159->160->161->162->163->164->165->166->386->387->388->389->390->391->392->393->394->395->396->1252->1253->1254->1224->1223->229->228->227->226->225->224->223->222->221->220->219->218->217->216->215->214->213->212->211->210->209->208->207->206->205->204->203->202->201->200->199->198->197->196->195->194->193->192->191->190->5602->2446->5994->5992->5991->3462->5990->3508->2533->2475->5993->3503->5995->3286->5399->2652->2651->2609->5997->1085->1919->5996->3693->5416->5432->5410->2053->5903->5421->5422, Distance: 3617.897036846942 meters\n",
      "\n",
      "\n",
      "Time executed: 0:00:35\n",
      "\n",
      "\n"
     ]
    }
   ],
   "source": [
    "path_dijkstra = run_find_path(slo, start_vertex, end_vertex, 'dijkstra')\n",
    "map_dijkstra = show_map(path_dijkstra)"
   ]
  },
  {
   "cell_type": "code",
   "execution_count": 7,
   "metadata": {},
   "outputs": [
    {
     "data": {
      "text/html": [
       "<div style=\"width:100%;\"><div style=\"position:relative;width:100%;height:0;padding-bottom:60%;\"><span style=\"color:#565656\">Make this Notebook Trusted to load map: File -> Trust Notebook</span><iframe srcdoc=\"&lt;!DOCTYPE html&gt;\n",
       "&lt;html&gt;\n",
       "&lt;head&gt;\n",
       "    \n",
       "    &lt;meta http-equiv=&quot;content-type&quot; content=&quot;text/html; charset=UTF-8&quot; /&gt;\n",
       "    \n",
       "        &lt;script&gt;\n",
       "            L_NO_TOUCH = false;\n",
       "            L_DISABLE_3D = false;\n",
       "        &lt;/script&gt;\n",
       "    \n",
       "    &lt;style&gt;html, body {width: 100%;height: 100%;margin: 0;padding: 0;}&lt;/style&gt;\n",
       "    &lt;style&gt;#map {position:absolute;top:0;bottom:0;right:0;left:0;}&lt;/style&gt;\n",
       "    &lt;script src=&quot;https://cdn.jsdelivr.net/npm/leaflet@1.9.3/dist/leaflet.js&quot;&gt;&lt;/script&gt;\n",
       "    &lt;script src=&quot;https://code.jquery.com/jquery-3.7.1.min.js&quot;&gt;&lt;/script&gt;\n",
       "    &lt;script src=&quot;https://cdn.jsdelivr.net/npm/bootstrap@5.2.2/dist/js/bootstrap.bundle.min.js&quot;&gt;&lt;/script&gt;\n",
       "    &lt;script src=&quot;https://cdnjs.cloudflare.com/ajax/libs/Leaflet.awesome-markers/2.0.2/leaflet.awesome-markers.js&quot;&gt;&lt;/script&gt;\n",
       "    &lt;link rel=&quot;stylesheet&quot; href=&quot;https://cdn.jsdelivr.net/npm/leaflet@1.9.3/dist/leaflet.css&quot;/&gt;\n",
       "    &lt;link rel=&quot;stylesheet&quot; href=&quot;https://cdn.jsdelivr.net/npm/bootstrap@5.2.2/dist/css/bootstrap.min.css&quot;/&gt;\n",
       "    &lt;link rel=&quot;stylesheet&quot; href=&quot;https://netdna.bootstrapcdn.com/bootstrap/3.0.0/css/bootstrap.min.css&quot;/&gt;\n",
       "    &lt;link rel=&quot;stylesheet&quot; href=&quot;https://cdn.jsdelivr.net/npm/@fortawesome/fontawesome-free@6.2.0/css/all.min.css&quot;/&gt;\n",
       "    &lt;link rel=&quot;stylesheet&quot; href=&quot;https://cdnjs.cloudflare.com/ajax/libs/Leaflet.awesome-markers/2.0.2/leaflet.awesome-markers.css&quot;/&gt;\n",
       "    &lt;link rel=&quot;stylesheet&quot; href=&quot;https://cdn.jsdelivr.net/gh/python-visualization/folium/folium/templates/leaflet.awesome.rotate.min.css&quot;/&gt;\n",
       "    \n",
       "            &lt;meta name=&quot;viewport&quot; content=&quot;width=device-width,\n",
       "                initial-scale=1.0, maximum-scale=1.0, user-scalable=no&quot; /&gt;\n",
       "            &lt;style&gt;\n",
       "                #map_60668b294fbec506bd26e5ab3db010f1 {\n",
       "                    position: relative;\n",
       "                    width: 100.0%;\n",
       "                    height: 100.0%;\n",
       "                    left: 0.0%;\n",
       "                    top: 0.0%;\n",
       "                }\n",
       "                .leaflet-container { font-size: 1rem; }\n",
       "            &lt;/style&gt;\n",
       "        \n",
       "&lt;/head&gt;\n",
       "&lt;body&gt;\n",
       "    \n",
       "    \n",
       "            &lt;div class=&quot;folium-map&quot; id=&quot;map_60668b294fbec506bd26e5ab3db010f1&quot; &gt;&lt;/div&gt;\n",
       "        \n",
       "&lt;/body&gt;\n",
       "&lt;script&gt;\n",
       "    \n",
       "    \n",
       "            var map_60668b294fbec506bd26e5ab3db010f1 = L.map(\n",
       "                &quot;map_60668b294fbec506bd26e5ab3db010f1&quot;,\n",
       "                {\n",
       "                    center: [10.8008879, 106.6691939],\n",
       "                    crs: L.CRS.EPSG3857,\n",
       "                    zoom: 15,\n",
       "                    zoomControl: true,\n",
       "                    preferCanvas: false,\n",
       "                }\n",
       "            );\n",
       "\n",
       "            \n",
       "\n",
       "        \n",
       "    \n",
       "            var tile_layer_e3d0de2172e92eb7b29f1b763eedadc9 = L.tileLayer(\n",
       "                &quot;https://tile.openstreetmap.org/{z}/{x}/{y}.png&quot;,\n",
       "                {&quot;attribution&quot;: &quot;\\u0026copy; \\u003ca href=\\&quot;https://www.openstreetmap.org/copyright\\&quot;\\u003eOpenStreetMap\\u003c/a\\u003e contributors&quot;, &quot;detectRetina&quot;: false, &quot;maxNativeZoom&quot;: 19, &quot;maxZoom&quot;: 19, &quot;minZoom&quot;: 0, &quot;noWrap&quot;: false, &quot;opacity&quot;: 1, &quot;subdomains&quot;: &quot;abc&quot;, &quot;tms&quot;: false}\n",
       "            );\n",
       "        \n",
       "    \n",
       "            tile_layer_e3d0de2172e92eb7b29f1b763eedadc9.addTo(map_60668b294fbec506bd26e5ab3db010f1);\n",
       "        \n",
       "    \n",
       "            var feature_group_70172df5725f6184bff7224dda0c9af8 = L.featureGroup(\n",
       "                {}\n",
       "            );\n",
       "        \n",
       "    \n",
       "        function geo_json_1fe42f01e2ecf3e7ac490d0e5b157316_styler(feature) {\n",
       "            switch(feature.id) {\n",
       "                default:\n",
       "                    return {&quot;fillColor&quot;: &quot;blue&quot;, &quot;fillOpacity&quot;: 0.2};\n",
       "            }\n",
       "        }\n",
       "\n",
       "        function geo_json_1fe42f01e2ecf3e7ac490d0e5b157316_onEachFeature(feature, layer) {\n",
       "            layer.on({\n",
       "            });\n",
       "        };\n",
       "        var geo_json_1fe42f01e2ecf3e7ac490d0e5b157316 = L.geoJson(null, {\n",
       "                onEachFeature: geo_json_1fe42f01e2ecf3e7ac490d0e5b157316_onEachFeature,\n",
       "            \n",
       "                style: geo_json_1fe42f01e2ecf3e7ac490d0e5b157316_styler,\n",
       "        });\n",
       "\n",
       "        function geo_json_1fe42f01e2ecf3e7ac490d0e5b157316_add (data) {\n",
       "            geo_json_1fe42f01e2ecf3e7ac490d0e5b157316\n",
       "                .addData(data);\n",
       "        }\n",
       "            geo_json_1fe42f01e2ecf3e7ac490d0e5b157316_add({&quot;copyright&quot;: &quot;The data included in this document is from www.openstreetmap.org. The data is made available under ODbL.&quot;, &quot;features&quot;: [{&quot;geometry&quot;: {&quot;coordinates&quot;: [[[106.6698645, 10.7989418], [106.6698424, 10.7988907], [106.669805, 10.7987716], [106.6698359, 10.7985977], [106.6696176, 10.7986435], [106.6691583, 10.7989197], [106.6690216, 10.798848], [106.668921, 10.7987787], [106.6688394, 10.7987043], [106.6688357, 10.7984534], [106.6690223, 10.7984333], [106.6690266, 10.7981898], [106.6685817, 10.7982159], [106.6684478, 10.7982292], [106.6683834, 10.797225], [106.668547, 10.7972171], [106.6685256, 10.7970484], [106.6684827, 10.7970484], [106.6684585, 10.7965426], [106.6684103, 10.7965452], [106.6683915, 10.7963818], [106.6683915, 10.7960762], [106.6683834, 10.7959181], [106.6683888, 10.795681], [106.6684129, 10.7956336], [106.6683968, 10.7954281], [106.6683647, 10.7954281], [106.6683244, 10.7947088], [106.6682922, 10.7946113], [106.6683137, 10.7945876], [106.668253, 10.7943284], [106.6684768, 10.7941616], [106.6682211, 10.793784], [106.666174, 10.7911473], [106.6659559, 10.7908605], [106.6659902, 10.7907693], [106.6661001, 10.7907457], [106.6661909, 10.7907143], [106.6662831, 10.7906709], [106.6665546, 10.7904963], [106.6666285, 10.7904405], [106.6667433, 10.7903303], [106.666802, 10.7902196], [106.6668169, 10.7901092], [106.6668017, 10.7899871], [106.6667487, 10.7898232], [106.6667163, 10.789668], [106.6667398, 10.7895588], [106.6668168, 10.7894862], [106.6671277, 10.7893016], [106.6681669, 10.7888163], [106.6693492, 10.7883824], [106.6707778, 10.7879207], [106.6708127, 10.7881431], [106.6710473, 10.7893707], [106.6713313, 10.7893383], [106.6714399, 10.7893435], [106.6715324, 10.7893409], [106.6716746, 10.7893514], [106.6718731, 10.7893567], [106.6718731, 10.7894002], [106.6719844, 10.7894397], [106.6719911, 10.7894779], [106.6720689, 10.7894858], [106.6720742, 10.7895227], [106.672156, 10.7895385], [106.6721587, 10.7896479], [106.6721265, 10.7897796], [106.6721614, 10.7897789], [106.6722419, 10.7897934], [106.6722942, 10.789771], [106.672494, 10.789775], [106.6726777, 10.7898132], [106.6727046, 10.7898369], [106.6727502, 10.7898593], [106.6728145, 10.7898738], [106.6729111, 10.7898922], [106.6729781, 10.7898935], [106.6730667, 10.7898791], [106.6731391, 10.7898896], [106.6732182, 10.7899094], [106.6732611, 10.7899357], [106.673304, 10.7899133], [106.6733268, 10.7899647], [106.6733738, 10.7900042], [106.6734234, 10.7900108], [106.6734569, 10.789995], [106.6735173, 10.7900174], [106.6735642, 10.7900279], [106.6736339, 10.7899963], [106.6736943, 10.7899792], [106.6737439, 10.7899449], [106.6738698, 10.7900179], [106.6739285, 10.7900997], [106.6739142, 10.7902629], [106.6739631, 10.7903144], [106.67426, 10.7901662], [106.6742895, 10.7902073], [106.6746669, 10.7900049], [106.6746849, 10.7901654], [106.6748836, 10.7901564], [106.6748812, 10.7902185], [106.6751659, 10.7902526], [106.6751556, 10.7903129], [106.6752266, 10.7903201], [106.6753346, 10.790322], [106.6753553, 10.7902461], [106.6758353, 10.7903701], [106.6758789, 10.7903557], [106.6762741, 10.7904995], [106.6763701, 10.7905075], [106.6763718, 10.7905694], [106.6765569, 10.7905904], [106.6765569, 10.7905536], [106.6766159, 10.7905536], [106.6766213, 10.7904376], [106.6767098, 10.7904534], [106.6767393, 10.7904745], [106.6767822, 10.7904824], [106.6768305, 10.7904956], [106.6768197, 10.7905878], [106.6768171, 10.7906352], [106.6768627, 10.7906352], [106.6768975, 10.7906669], [106.6769565, 10.7906932], [106.6769592, 10.7907564], [106.6769994, 10.7907696], [106.6769968, 10.7908328], [106.6771041, 10.7908513], [106.6772757, 10.7908724], [106.6774179, 10.7909172], [106.6775708, 10.7909699], [106.6776164, 10.7909224], [106.6776888, 10.7909013], [106.6777397, 10.7909119], [106.6778256, 10.7909066], [106.6778175, 10.7908697], [106.6778122, 10.7907591], [106.6780798, 10.7907651], [106.6783996, 10.7907881], [106.6783942, 10.7908618], [106.6785471, 10.7909013], [106.6786275, 10.7908776], [106.6786731, 10.7908566], [106.6787643, 10.7908724], [106.6787643, 10.7908355], [106.6788502, 10.7908197], [106.6789843, 10.7908566], [106.6791015, 10.7909213], [106.6792606, 10.7910278], [106.6793196, 10.7910357], [106.679341, 10.7909619], [106.6794537, 10.7910041], [106.6794537, 10.7910357], [106.6795878, 10.7910568], [106.6796334, 10.7909751], [106.6797165, 10.7909883], [106.6797407, 10.7910357], [106.6797675, 10.7911148], [106.679805, 10.7911306], [106.6798748, 10.7911806], [106.6801012, 10.7912776], [106.6802369, 10.7912518], [106.680312, 10.7912518], [106.6803871, 10.7912966], [106.6804515, 10.791344], [106.6805185, 10.7913545], [106.680599, 10.7912834], [106.6808055, 10.7913598], [106.6808779, 10.7912307], [106.6811408, 10.791286], [106.6816879, 10.7912725], [106.6818715, 10.7914819], [106.6819614, 10.7915707], [106.6820491, 10.7916575], [106.6822586, 10.791826], [106.6825809, 10.7920281], [106.683071, 10.7922746], [106.6835234, 10.7924087], [106.6839467, 10.7924625], [106.6843412, 10.792439], [106.6846537, 10.792394], [106.6855707, 10.7922353], [106.6857326, 10.7922396], [106.6858743, 10.79227], [106.6859844, 10.7923285], [106.6860645, 10.7924021], [106.6861391, 10.7924956], [106.6862779, 10.792689], [106.6863607, 10.79284], [106.6863951, 10.7929757], [106.6863946, 10.7930891], [106.6863497, 10.7932013], [106.6862255, 10.7933609], [106.6860434, 10.7935205], [106.685342, 10.7941097], [106.6852103, 10.7942599], [106.6851211, 10.7944282], [106.6850667, 10.7946235], [106.6850197, 10.794876], [106.684874, 10.7959517], [106.6848646, 10.7961678], [106.684886, 10.7963733], [106.6849599, 10.7965626], [106.6851077, 10.7967511], [106.6852732, 10.7968688], [106.685433, 10.7969315], [106.6856013, 10.7969493], [106.6857755, 10.7969297], [106.6859486, 10.7968624], [106.6861233, 10.7967384], [106.6862439, 10.7965729], [106.6865603, 10.7959327], [106.6868504, 10.7952926], [106.6869427, 10.7951322], [106.6870605, 10.7949901], [106.687202, 10.7949107], [106.6873877, 10.7948627], [106.6875889, 10.7948706], [106.6877807, 10.7949321], [106.6887751, 10.7954689], [106.6890853, 10.7955669], [106.6893887, 10.7956248], [106.6905383, 10.7957864], [106.6908006, 10.7957928], [106.6910467, 10.7957646], [106.6912865, 10.795706], [106.691528, 10.7955806], [106.6919534, 10.7959967], [106.6920004, 10.7972037], [106.6920049, 10.7973064], [106.6920319, 10.7977868], [106.6919769, 10.7978053], [106.6917786, 10.7978216], [106.6917983, 10.7983222], [106.6919364, 10.7983187], [106.6919206, 10.7984976], [106.6918616, 10.7986557], [106.6917919, 10.7993249], [106.6918348, 10.7997781], [106.6917865, 10.7999678], [106.6917489, 10.8000679], [106.6917597, 10.8001575], [106.6918026, 10.8002681], [106.6918723, 10.8003156], [106.6921352, 10.8004157], [106.6924839, 10.8004842], [106.6923837, 10.8009708], [106.6923602, 10.8010151], [106.6923516, 10.8010314], [106.6922532, 10.8010059], [106.692025, 10.8009289], [106.6920128, 10.8009278], [106.6920145, 10.8009779], [106.6920071, 10.8011156], [106.6919853, 10.8013637], [106.6921837, 10.8014255], [106.6922286, 10.8015601], [106.6921428, 10.8023069], [106.6915611, 10.802316], [106.6912621, 10.8024067], [106.6910058, 10.8024245], [106.6906713, 10.8023823], [106.6908818, 10.8033558], [106.687924, 10.8037436], [106.6882684, 10.8048203], [106.6885225, 10.8056313], [106.6870475, 10.8061622], [106.6870708, 10.8052455], [106.686749, 10.8053419], [106.6860406, 10.8055776], [106.6857784, 10.805786], [106.6849879, 10.8061742], [106.6842819, 10.806581], [106.6839104, 10.8069884], [106.6838586, 10.8071124], [106.6838779, 10.8072995], [106.6839311, 10.8076913], [106.6841517, 10.8081566], [106.684218, 10.808705], [106.6841132, 10.8092001], [106.6839366, 10.8097004], [106.6839863, 10.8099473], [106.6837921, 10.8100141], [106.6834734, 10.8101103], [106.6834567, 10.8101159], [106.6831014, 10.8102461], [106.6827064, 10.8104179], [106.6820958, 10.8107539], [106.6819308, 10.8104319], [106.6818697, 10.8104118], [106.6807764, 10.8109642], [106.6810199, 10.8114975], [106.6805203, 10.8118175], [106.6804477, 10.8119213], [106.6786076, 10.8120592], [106.6785881, 10.8117569], [106.6785616, 10.8113103], [106.6781344, 10.8113774], [106.6768594, 10.8121494], [106.6760522, 10.8112022], [106.6727587, 10.8141546], [106.672396, 10.813812], [106.6721341, 10.8130494], [106.6720652, 10.8122354], [106.6721306, 10.8117951], [106.672252, 10.8111621], [106.6715986, 10.8100633], [106.6706833, 10.8099331], [106.6706553, 10.808717], [106.6710643, 10.8086673], [106.6710503, 10.8078704], [106.671015, 10.8078567], [106.6706626, 10.807599], [106.6700132, 10.8076717], [106.6699244, 10.8068623], [106.6694714, 10.8066259], [106.6692396, 10.8043923], [106.6689713, 10.8030539], [106.6688106, 10.8031089], [106.668537, 10.8030773], [106.6682929, 10.802906], [106.6680274, 10.8026083], [106.6681031, 10.8024502], [106.6681371, 10.802311], [106.6681343, 10.8022731], [106.6681219, 10.8021071], [106.6679798, 10.8016289], [106.6678233, 10.8011939], [106.6678129, 10.8011614], [106.6677625, 10.8010031], [106.6675908, 10.8008714], [106.6670142, 10.8005947], [106.6674561, 10.8003054], [106.667571, 10.8002412], [106.6691575, 10.7993555], [106.6698645, 10.7989418]]], &quot;type&quot;: &quot;Polygon&quot;}, &quot;id&quot;: &quot;relation/3851694&quot;, &quot;properties&quot;: {&quot;@id&quot;: &quot;relation/3851694&quot;, &quot;admin_level&quot;: &quot;6&quot;, &quot;boundary&quot;: &quot;administrative&quot;, &quot;is_in:city&quot;: &quot;Ho Chi Minh City&quot;, &quot;name&quot;: &quot;Qu\\u1eadn Ph\\u00fa Nhu\\u1eadn&quot;, &quot;name:en&quot;: &quot;Phu Nhuan District&quot;, &quot;name:ko&quot;: &quot;\\ud478\\ub204\\uc5b8\\uad70&quot;, &quot;name:zh&quot;: &quot;\\u5bcc\\u6f64\\u90e1&quot;, &quot;name:zh-Hans&quot;: &quot;\\u5bcc\\u6da6\\u90e1&quot;, &quot;name:zh-Hant&quot;: &quot;\\u5bcc\\u6f64\\u90e1&quot;, &quot;type&quot;: &quot;boundary&quot;, &quot;wikidata&quot;: &quot;Q2194003&quot;}, &quot;type&quot;: &quot;Feature&quot;}, {&quot;geometry&quot;: {&quot;coordinates&quot;: [[[106.687924, 10.8037436], [106.6871974, 10.803818], [106.6867238, 10.8038739], [106.6862461, 10.8039558], [106.686053, 10.8039837], [106.6858558, 10.8039837], [106.6857115, 10.8039777], [106.6855123, 10.8039677], [106.6853232, 10.8039218], [106.6852313, 10.8038715], [106.685105, 10.8038231], [106.6849109, 10.8036566], [106.6845064, 10.8032691], [106.6848168, 10.8029108], [106.6844563, 10.8025961], [106.6846371, 10.8019985], [106.6847322, 10.8016931], [106.6849803, 10.8014855], [106.6852832, 10.8008084], [106.6854656, 10.8006533], [106.6856908, 10.8003744], [106.6858734, 10.8000839], [106.6860875, 10.7998211], [106.6861923, 10.7996943], [106.6864677, 10.7995525], [106.6863149, 10.7992008], [106.690526, 10.7974092], [106.6907459, 10.7973565], [106.6920049, 10.7973064], [106.6920319, 10.7977868], [106.6919769, 10.7978053], [106.6917786, 10.7978216], [106.6917983, 10.7983222], [106.6919364, 10.7983187], [106.6919206, 10.7984976], [106.6918616, 10.7986557], [106.6917919, 10.7993249], [106.6918348, 10.7997781], [106.6917865, 10.7999678], [106.6917489, 10.8000679], [106.6917597, 10.8001575], [106.6918026, 10.8002681], [106.6918723, 10.8003156], [106.6921352, 10.8004157], [106.6924839, 10.8004842], [106.6923837, 10.8009708], [106.6923602, 10.8010151], [106.6923516, 10.8010314], [106.6922532, 10.8010059], [106.692025, 10.8009289], [106.6920128, 10.8009278], [106.6920145, 10.8009779], [106.6920071, 10.8011156], [106.6919853, 10.8013637], [106.6921837, 10.8014255], [106.6922286, 10.8015601], [106.6921428, 10.8023069], [106.6915611, 10.802316], [106.6912621, 10.8024067], [106.6910058, 10.8024245], [106.6906713, 10.8023823], [106.6908818, 10.8033558], [106.687924, 10.8037436]]], &quot;type&quot;: &quot;Polygon&quot;}, &quot;id&quot;: &quot;relation/3853749&quot;, &quot;properties&quot;: {&quot;@id&quot;: &quot;relation/3853749&quot;, &quot;@relations&quot;: [{&quot;rel&quot;: 3851694, &quot;reltags&quot;: {&quot;admin_level&quot;: &quot;6&quot;, &quot;boundary&quot;: &quot;administrative&quot;, &quot;is_in:city&quot;: &quot;Ho Chi Minh City&quot;, &quot;name&quot;: &quot;Qu\\u1eadn Ph\\u00fa Nhu\\u1eadn&quot;, &quot;name:en&quot;: &quot;Phu Nhuan District&quot;, &quot;name:ko&quot;: &quot;\\ud478\\ub204\\uc5b8\\uad70&quot;, &quot;name:zh&quot;: &quot;\\u5bcc\\u6f64\\u90e1&quot;, &quot;name:zh-Hans&quot;: &quot;\\u5bcc\\u6da6\\u90e1&quot;, &quot;name:zh-Hant&quot;: &quot;\\u5bcc\\u6f64\\u90e1&quot;, &quot;type&quot;: &quot;boundary&quot;, &quot;wikidata&quot;: &quot;Q2194003&quot;}, &quot;role&quot;: &quot;subarea&quot;}], &quot;admin_level&quot;: &quot;8&quot;, &quot;boundary&quot;: &quot;administrative&quot;, &quot;is_in:city&quot;: &quot;Ho Chi Minh City&quot;, &quot;name&quot;: &quot;Ph\\u01b0\\u1eddng 7&quot;, &quot;name:en&quot;: &quot;Ward 7&quot;, &quot;type&quot;: &quot;boundary&quot;, &quot;wikidata&quot;: &quot;Q2555334&quot;, &quot;wikipedia&quot;: &quot;vi:Ph\\u01b0\\u1eddng 7, Ph\\u00fa Nhu\\u1eadn&quot;}, &quot;type&quot;: &quot;Feature&quot;}, {&quot;geometry&quot;: {&quot;coordinates&quot;: [[[106.6920049, 10.7973064], [106.6907459, 10.7973565], [106.690526, 10.7974092], [106.6863149, 10.7992008], [106.6864677, 10.7995525], [106.6861923, 10.7996943], [106.6860875, 10.7998211], [106.6858734, 10.8000839], [106.6856908, 10.8003744], [106.6854656, 10.8006533], [106.6852832, 10.8008084], [106.6849803, 10.8014855], [106.6847322, 10.8016931], [106.6846371, 10.8019985], [106.6844563, 10.8025961], [106.6848168, 10.8029108], [106.6845064, 10.8032691], [106.6829765, 10.80176], [106.684332, 10.8005198], [106.6843392, 10.8002389], [106.6845993, 10.7999256], [106.684537, 10.7997998], [106.6845445, 10.7996429], [106.6844456, 10.7992244], [106.6845196, 10.7991927], [106.6842718, 10.7980987], [106.684063, 10.7974745], [106.6843135, 10.7973206], [106.6840262, 10.7967759], [106.6838722, 10.7965569], [106.6837748, 10.7964509], [106.6834446, 10.7961748], [106.6830672, 10.7957527], [106.6826423, 10.7952664], [106.6836499, 10.7944566], [106.6861391, 10.7924956], [106.6862779, 10.792689], [106.6863607, 10.79284], [106.6863951, 10.7929757], [106.6863946, 10.7930891], [106.6863497, 10.7932013], [106.6862255, 10.7933609], [106.6860434, 10.7935205], [106.685342, 10.7941097], [106.6852103, 10.7942599], [106.6851211, 10.7944282], [106.6850667, 10.7946235], [106.6850197, 10.794876], [106.684874, 10.7959517], [106.6848646, 10.7961678], [106.684886, 10.7963733], [106.6849599, 10.7965626], [106.6851077, 10.7967511], [106.6852732, 10.7968688], [106.685433, 10.7969315], [106.6856013, 10.7969493], [106.6857755, 10.7969297], [106.6859486, 10.7968624], [106.6861233, 10.7967384], [106.6862439, 10.7965729], [106.6865603, 10.7959327], [106.6868504, 10.7952926], [106.6869427, 10.7951322], [106.6870605, 10.7949901], [106.687202, 10.7949107], [106.6873877, 10.7948627], [106.6875889, 10.7948706], [106.6877807, 10.7949321], [106.6887751, 10.7954689], [106.6890853, 10.7955669], [106.6893887, 10.7956248], [106.6905383, 10.7957864], [106.6908006, 10.7957928], [106.6910467, 10.7957646], [106.6912865, 10.795706], [106.691528, 10.7955806], [106.6919534, 10.7959967], [106.6920004, 10.7972037], [106.6920049, 10.7973064]]], &quot;type&quot;: &quot;Polygon&quot;}, &quot;id&quot;: &quot;relation/3853750&quot;, &quot;properties&quot;: {&quot;@id&quot;: &quot;relation/3853750&quot;, &quot;@relations&quot;: [{&quot;rel&quot;: 3851694, &quot;reltags&quot;: {&quot;admin_level&quot;: &quot;6&quot;, &quot;boundary&quot;: &quot;administrative&quot;, &quot;is_in:city&quot;: &quot;Ho Chi Minh City&quot;, &quot;name&quot;: &quot;Qu\\u1eadn Ph\\u00fa Nhu\\u1eadn&quot;, &quot;name:en&quot;: &quot;Phu Nhuan District&quot;, &quot;name:ko&quot;: &quot;\\ud478\\ub204\\uc5b8\\uad70&quot;, &quot;name:zh&quot;: &quot;\\u5bcc\\u6f64\\u90e1&quot;, &quot;name:zh-Hans&quot;: &quot;\\u5bcc\\u6da6\\u90e1&quot;, &quot;name:zh-Hant&quot;: &quot;\\u5bcc\\u6f64\\u90e1&quot;, &quot;type&quot;: &quot;boundary&quot;, &quot;wikidata&quot;: &quot;Q2194003&quot;}, &quot;role&quot;: &quot;subarea&quot;}], &quot;admin_level&quot;: &quot;8&quot;, &quot;boundary&quot;: &quot;administrative&quot;, &quot;is_in:city&quot;: &quot;Ho Chi Minh City&quot;, &quot;name&quot;: &quot;Ph\\u01b0\\u1eddng 2&quot;, &quot;name:en&quot;: &quot;Ward 2&quot;, &quot;name:ko&quot;: &quot;2\\ubc29&quot;, &quot;name:vi&quot;: &quot;Ph\\u01b0\\u1eddng 2&quot;, &quot;type&quot;: &quot;boundary&quot;, &quot;wikidata&quot;: &quot;Q10806666&quot;, &quot;wikipedia&quot;: &quot;vi:Ph\\u01b0\\u1eddng 2, Ph\\u00fa Nhu\\u1eadn&quot;}, &quot;type&quot;: &quot;Feature&quot;}, {&quot;geometry&quot;: {&quot;coordinates&quot;: [[[106.6818946, 10.7958578], [106.6820095, 10.7957678], [106.6826423, 10.7952664], [106.6830672, 10.7957527], [106.6834446, 10.7961748], [106.6837748, 10.7964509], [106.6838722, 10.7965569], [106.6840262, 10.7967759], [106.6843135, 10.7973206], [106.684063, 10.7974745], [106.6842718, 10.7980987], [106.6845196, 10.7991927], [106.6844456, 10.7992244], [106.6845445, 10.7996429], [106.684537, 10.7997998], [106.6845993, 10.7999256], [106.6843392, 10.8002389], [106.684332, 10.8005198], [106.6829765, 10.80176], [106.6824599, 10.8012878], [106.6807461, 10.7996399], [106.6804711, 10.7993368], [106.6802479, 10.7992343], [106.680563, 10.7985301], [106.6811503, 10.7971997], [106.6814259, 10.7965935], [106.6814724, 10.796473], [106.6815995, 10.7962116], [106.6818946, 10.7958578]]], &quot;type&quot;: &quot;Polygon&quot;}, &quot;id&quot;: &quot;relation/3853751&quot;, &quot;properties&quot;: {&quot;@id&quot;: &quot;relation/3853751&quot;, &quot;@relations&quot;: [{&quot;rel&quot;: 3851694, &quot;reltags&quot;: {&quot;admin_level&quot;: &quot;6&quot;, &quot;boundary&quot;: &quot;administrative&quot;, &quot;is_in:city&quot;: &quot;Ho Chi Minh City&quot;, &quot;name&quot;: &quot;Qu\\u1eadn Ph\\u00fa Nhu\\u1eadn&quot;, &quot;name:en&quot;: &quot;Phu Nhuan District&quot;, &quot;name:ko&quot;: &quot;\\ud478\\ub204\\uc5b8\\uad70&quot;, &quot;name:zh&quot;: &quot;\\u5bcc\\u6f64\\u90e1&quot;, &quot;name:zh-Hans&quot;: &quot;\\u5bcc\\u6da6\\u90e1&quot;, &quot;name:zh-Hant&quot;: &quot;\\u5bcc\\u6f64\\u90e1&quot;, &quot;type&quot;: &quot;boundary&quot;, &quot;wikidata&quot;: &quot;Q2194003&quot;}, &quot;role&quot;: &quot;subarea&quot;}], &quot;admin_level&quot;: &quot;8&quot;, &quot;boundary&quot;: &quot;administrative&quot;, &quot;is_in:city&quot;: &quot;Ho Chi Minh City&quot;, &quot;name&quot;: &quot;Ph\\u01b0\\u1eddng 1&quot;, &quot;name:en&quot;: &quot;Ward 1&quot;, &quot;name:ko&quot;: &quot;1\\ubc29&quot;, &quot;name:vi&quot;: &quot;Ph\\u01b0\\u1eddng 1&quot;, &quot;type&quot;: &quot;boundary&quot;, &quot;wikidata&quot;: &quot;Q2561804&quot;, &quot;wikipedia&quot;: &quot;vi:Ph\\u01b0\\u1eddng 1, Ph\\u00fa Nhu\\u1eadn&quot;}, &quot;type&quot;: &quot;Feature&quot;}, {&quot;geometry&quot;: {&quot;coordinates&quot;: [[[106.6698645, 10.7989418], [106.6698424, 10.7988907], [106.669805, 10.7987716], [106.6698359, 10.7985977], [106.6696176, 10.7986435], [106.6691583, 10.7989197], [106.6690216, 10.798848], [106.668921, 10.7987787], [106.6688394, 10.7987043], [106.6688357, 10.7984534], [106.6690223, 10.7984333], [106.6690266, 10.7981898], [106.6685817, 10.7982159], [106.6684478, 10.7982292], [106.6683834, 10.797225], [106.668547, 10.7972171], [106.6685256, 10.7970484], [106.6684827, 10.7970484], [106.6684585, 10.7965426], [106.6684103, 10.7965452], [106.6683915, 10.7963818], [106.6683915, 10.7960762], [106.6683834, 10.7959181], [106.6683888, 10.795681], [106.6684129, 10.7956336], [106.6683968, 10.7954281], [106.6683647, 10.7954281], [106.6683244, 10.7947088], [106.6682922, 10.7946113], [106.6683137, 10.7945876], [106.668253, 10.7943284], [106.6684768, 10.7941616], [106.6690269, 10.7937342], [106.6695185, 10.7933738], [106.6697403, 10.7932032], [106.6698415, 10.7931289], [106.670138, 10.7929153], [106.6705631, 10.7925964], [106.6706798, 10.7925108], [106.6716136, 10.7918311], [106.6720054, 10.7915301], [106.6720279, 10.7915107], [106.6722288, 10.7918895], [106.6727572, 10.7929209], [106.6733317, 10.7941018], [106.6743953, 10.7962352], [106.6744202, 10.7962851], [106.6698645, 10.7989418]]], &quot;type&quot;: &quot;Polygon&quot;}, &quot;id&quot;: &quot;relation/6227794&quot;, &quot;properties&quot;: {&quot;@id&quot;: &quot;relation/6227794&quot;, &quot;@relations&quot;: [{&quot;rel&quot;: 3851694, &quot;reltags&quot;: {&quot;admin_level&quot;: &quot;6&quot;, &quot;boundary&quot;: &quot;administrative&quot;, &quot;is_in:city&quot;: &quot;Ho Chi Minh City&quot;, &quot;name&quot;: &quot;Qu\\u1eadn Ph\\u00fa Nhu\\u1eadn&quot;, &quot;name:en&quot;: &quot;Phu Nhuan District&quot;, &quot;name:ko&quot;: &quot;\\ud478\\ub204\\uc5b8\\uad70&quot;, &quot;name:zh&quot;: &quot;\\u5bcc\\u6f64\\u90e1&quot;, &quot;name:zh-Hans&quot;: &quot;\\u5bcc\\u6da6\\u90e1&quot;, &quot;name:zh-Hant&quot;: &quot;\\u5bcc\\u6f64\\u90e1&quot;, &quot;type&quot;: &quot;boundary&quot;, &quot;wikidata&quot;: &quot;Q2194003&quot;}, &quot;role&quot;: &quot;subarea&quot;}], &quot;admin_level&quot;: &quot;8&quot;, &quot;boundary&quot;: &quot;administrative&quot;, &quot;is_in:city&quot;: &quot;Ho Chi Minh City&quot;, &quot;name&quot;: &quot;Ph\\u01b0\\u1eddng 10&quot;, &quot;name:en&quot;: &quot;Ward 10&quot;, &quot;type&quot;: &quot;boundary&quot;, &quot;wikidata&quot;: &quot;Q2040133&quot;, &quot;wikipedia&quot;: &quot;vi:Ph\\u01b0\\u1eddng 10, Ph\\u00fa Nhu\\u1eadn&quot;}, &quot;type&quot;: &quot;Feature&quot;}, {&quot;geometry&quot;: {&quot;coordinates&quot;: [[[106.6789788, 10.8033297], [106.6790451, 10.8028434], [106.6790646, 10.8027], [106.6792159, 10.8019814], [106.679314, 10.8016446], [106.6793805, 10.8014161], [106.6794334, 10.8012346], [106.6802479, 10.7992343], [106.6804711, 10.7993368], [106.6807461, 10.7996399], [106.6824599, 10.8012878], [106.6829765, 10.80176], [106.6845064, 10.8032691], [106.6841935, 10.8036306], [106.6838688, 10.8040122], [106.6836515, 10.8042738], [106.6834716, 10.804416], [106.6833645, 10.8042936], [106.6831022, 10.8041684], [106.6830222, 10.8041483], [106.6825547, 10.8042412], [106.6823988, 10.8042297], [106.6821037, 10.8041449], [106.6810221, 10.8038289], [106.6805847, 10.8036831], [106.6789788, 10.8033297]]], &quot;type&quot;: &quot;Polygon&quot;}, &quot;id&quot;: &quot;relation/6227795&quot;, &quot;properties&quot;: {&quot;@id&quot;: &quot;relation/6227795&quot;, &quot;@relations&quot;: [{&quot;rel&quot;: 3851694, &quot;reltags&quot;: {&quot;admin_level&quot;: &quot;6&quot;, &quot;boundary&quot;: &quot;administrative&quot;, &quot;is_in:city&quot;: &quot;Ho Chi Minh City&quot;, &quot;name&quot;: &quot;Qu\\u1eadn Ph\\u00fa Nhu\\u1eadn&quot;, &quot;name:en&quot;: &quot;Phu Nhuan District&quot;, &quot;name:ko&quot;: &quot;\\ud478\\ub204\\uc5b8\\uad70&quot;, &quot;name:zh&quot;: &quot;\\u5bcc\\u6f64\\u90e1&quot;, &quot;name:zh-Hans&quot;: &quot;\\u5bcc\\u6da6\\u90e1&quot;, &quot;name:zh-Hant&quot;: &quot;\\u5bcc\\u6f64\\u90e1&quot;, &quot;type&quot;: &quot;boundary&quot;, &quot;wikidata&quot;: &quot;Q2194003&quot;}, &quot;role&quot;: &quot;subarea&quot;}], &quot;admin_level&quot;: &quot;8&quot;, &quot;boundary&quot;: &quot;administrative&quot;, &quot;is_in:city&quot;: &quot;Ho Chi Minh City&quot;, &quot;name&quot;: &quot;Ph\\u01b0\\u1eddng 3&quot;, &quot;name:en&quot;: &quot;Ward 3&quot;, &quot;type&quot;: &quot;boundary&quot;, &quot;wikidata&quot;: &quot;Q2638229&quot;, &quot;wikipedia&quot;: &quot;vi:Ph\\u01b0\\u1eddng 3, Ph\\u00fa Nhu\\u1eadn&quot;}, &quot;type&quot;: &quot;Feature&quot;}, {&quot;geometry&quot;: {&quot;coordinates&quot;: [[[106.6816609, 10.8100285], [106.6818697, 10.8104118], [106.6807764, 10.8109642], [106.6810199, 10.8114975], [106.6805203, 10.8118175], [106.6804477, 10.8119213], [106.6786076, 10.8120592], [106.6785881, 10.8117569], [106.6785616, 10.8113103], [106.6785076, 10.8104941], [106.6784762, 10.8097473], [106.6784694, 10.8082815], [106.678457, 10.8077691], [106.6784622, 10.8075891], [106.6784558, 10.8072843], [106.6784638, 10.8066836], [106.6784668, 10.806655], [106.678504, 10.8063042], [106.6787615, 10.8047248], [106.6789788, 10.8033297], [106.6805847, 10.8036831], [106.6810221, 10.8038289], [106.6821037, 10.8041449], [106.6823988, 10.8042297], [106.6825547, 10.8042412], [106.6830222, 10.8041483], [106.6831022, 10.8041684], [106.6833645, 10.8042936], [106.6834716, 10.804416], [106.6829005, 10.8048582], [106.68225, 10.8053448], [106.6821356, 10.8054348], [106.6813019, 10.8060944], [106.6807167, 10.8065926], [106.6804112, 10.8068246], [106.6800655, 10.8070763], [106.6805031, 10.8079082], [106.6806483, 10.8081765], [106.6808802, 10.8086014], [106.6816609, 10.8100285]]], &quot;type&quot;: &quot;Polygon&quot;}, &quot;id&quot;: &quot;relation/6227796&quot;, &quot;properties&quot;: {&quot;@id&quot;: &quot;relation/6227796&quot;, &quot;@relations&quot;: [{&quot;rel&quot;: 3851694, &quot;reltags&quot;: {&quot;admin_level&quot;: &quot;6&quot;, &quot;boundary&quot;: &quot;administrative&quot;, &quot;is_in:city&quot;: &quot;Ho Chi Minh City&quot;, &quot;name&quot;: &quot;Qu\\u1eadn Ph\\u00fa Nhu\\u1eadn&quot;, &quot;name:en&quot;: &quot;Phu Nhuan District&quot;, &quot;name:ko&quot;: &quot;\\ud478\\ub204\\uc5b8\\uad70&quot;, &quot;name:zh&quot;: &quot;\\u5bcc\\u6f64\\u90e1&quot;, &quot;name:zh-Hans&quot;: &quot;\\u5bcc\\u6da6\\u90e1&quot;, &quot;name:zh-Hant&quot;: &quot;\\u5bcc\\u6f64\\u90e1&quot;, &quot;type&quot;: &quot;boundary&quot;, &quot;wikidata&quot;: &quot;Q2194003&quot;}, &quot;role&quot;: &quot;subarea&quot;}], &quot;admin_level&quot;: &quot;8&quot;, &quot;boundary&quot;: &quot;administrative&quot;, &quot;is_in:city&quot;: &quot;Ho Chi Minh City&quot;, &quot;name&quot;: &quot;Ph\\u01b0\\u1eddng 4&quot;, &quot;name:en&quot;: &quot;Ward 4&quot;, &quot;name:ko&quot;: &quot;4\\ubc29&quot;, &quot;type&quot;: &quot;boundary&quot;, &quot;wikidata&quot;: &quot;Q10806732&quot;, &quot;wikipedia&quot;: &quot;vi:Ph\\u01b0\\u1eddng 4, Ph\\u00fa Nhu\\u1eadn&quot;}, &quot;type&quot;: &quot;Feature&quot;}, {&quot;geometry&quot;: {&quot;coordinates&quot;: [[[106.6839863, 10.8099473], [106.6837921, 10.8100141], [106.6834734, 10.8101103], [106.6834567, 10.8101159], [106.6831014, 10.8102461], [106.6827064, 10.8104179], [106.6820958, 10.8107539], [106.6819308, 10.8104319], [106.6818697, 10.8104118], [106.6816609, 10.8100285], [106.6808802, 10.8086014], [106.6806483, 10.8081765], [106.6805031, 10.8079082], [106.6800655, 10.8070763], [106.6804112, 10.8068246], [106.6807167, 10.8065926], [106.6813019, 10.8060944], [106.6821356, 10.8054348], [106.68225, 10.8053448], [106.6829005, 10.8048582], [106.6834716, 10.804416], [106.6836515, 10.8042738], [106.6838688, 10.8040122], [106.6841935, 10.8036306], [106.6845064, 10.8032691], [106.6849109, 10.8036566], [106.685105, 10.8038231], [106.6852313, 10.8038715], [106.6853232, 10.8039218], [106.6855123, 10.8039677], [106.6857115, 10.8039777], [106.6858558, 10.8039837], [106.686053, 10.8039837], [106.6862461, 10.8039558], [106.6867238, 10.8038739], [106.6871974, 10.803818], [106.687924, 10.8037436], [106.6882684, 10.8048203], [106.6885225, 10.8056313], [106.6870475, 10.8061622], [106.6870708, 10.8052455], [106.686749, 10.8053419], [106.6860406, 10.8055776], [106.6857784, 10.805786], [106.6849879, 10.8061742], [106.6842819, 10.806581], [106.6839104, 10.8069884], [106.6838586, 10.8071124], [106.6838779, 10.8072995], [106.6839311, 10.8076913], [106.6841517, 10.8081566], [106.684218, 10.808705], [106.6841132, 10.8092001], [106.6839366, 10.8097004], [106.6839863, 10.8099473]]], &quot;type&quot;: &quot;Polygon&quot;}, &quot;id&quot;: &quot;relation/6227797&quot;, &quot;properties&quot;: {&quot;@id&quot;: &quot;relation/6227797&quot;, &quot;@relations&quot;: [{&quot;rel&quot;: 3851694, &quot;reltags&quot;: {&quot;admin_level&quot;: &quot;6&quot;, &quot;boundary&quot;: &quot;administrative&quot;, &quot;is_in:city&quot;: &quot;Ho Chi Minh City&quot;, &quot;name&quot;: &quot;Qu\\u1eadn Ph\\u00fa Nhu\\u1eadn&quot;, &quot;name:en&quot;: &quot;Phu Nhuan District&quot;, &quot;name:ko&quot;: &quot;\\ud478\\ub204\\uc5b8\\uad70&quot;, &quot;name:zh&quot;: &quot;\\u5bcc\\u6f64\\u90e1&quot;, &quot;name:zh-Hans&quot;: &quot;\\u5bcc\\u6da6\\u90e1&quot;, &quot;name:zh-Hant&quot;: &quot;\\u5bcc\\u6f64\\u90e1&quot;, &quot;type&quot;: &quot;boundary&quot;, &quot;wikidata&quot;: &quot;Q2194003&quot;}, &quot;role&quot;: &quot;subarea&quot;}], &quot;admin_level&quot;: &quot;8&quot;, &quot;boundary&quot;: &quot;administrative&quot;, &quot;is_in:city&quot;: &quot;Ho Chi Minh City&quot;, &quot;name&quot;: &quot;Ph\\u01b0\\u1eddng 5&quot;, &quot;name:en&quot;: &quot;Ward 5&quot;, &quot;type&quot;: &quot;boundary&quot;, &quot;wikidata&quot;: &quot;Q2635622&quot;, &quot;wikipedia&quot;: &quot;vi:Ph\\u01b0\\u1eddng 5, Ph\\u00fa Nhu\\u1eadn&quot;}, &quot;type&quot;: &quot;Feature&quot;}, {&quot;geometry&quot;: {&quot;coordinates&quot;: [[[106.6698645, 10.7989418], [106.6744202, 10.7962851], [106.6752056, 10.795816], [106.6770585, 10.7946932], [106.6778503, 10.7942141], [106.6778126, 10.7949611], [106.6776594, 10.7974052], [106.6775583, 10.7993507], [106.6738602, 10.7996624], [106.6715833, 10.7998218], [106.6714467, 10.7998343], [106.6679446, 10.8001709], [106.667571, 10.8002412], [106.6691575, 10.7993555], [106.6698645, 10.7989418]]], &quot;type&quot;: &quot;Polygon&quot;}, &quot;id&quot;: &quot;relation/6227798&quot;, &quot;properties&quot;: {&quot;@id&quot;: &quot;relation/6227798&quot;, &quot;@relations&quot;: [{&quot;rel&quot;: 3851694, &quot;reltags&quot;: {&quot;admin_level&quot;: &quot;6&quot;, &quot;boundary&quot;: &quot;administrative&quot;, &quot;is_in:city&quot;: &quot;Ho Chi Minh City&quot;, &quot;name&quot;: &quot;Qu\\u1eadn Ph\\u00fa Nhu\\u1eadn&quot;, &quot;name:en&quot;: &quot;Phu Nhuan District&quot;, &quot;name:ko&quot;: &quot;\\ud478\\ub204\\uc5b8\\uad70&quot;, &quot;name:zh&quot;: &quot;\\u5bcc\\u6f64\\u90e1&quot;, &quot;name:zh-Hans&quot;: &quot;\\u5bcc\\u6da6\\u90e1&quot;, &quot;name:zh-Hant&quot;: &quot;\\u5bcc\\u6f64\\u90e1&quot;, &quot;type&quot;: &quot;boundary&quot;, &quot;wikidata&quot;: &quot;Q2194003&quot;}, &quot;role&quot;: &quot;subarea&quot;}], &quot;admin_level&quot;: &quot;8&quot;, &quot;boundary&quot;: &quot;administrative&quot;, &quot;is_in:city&quot;: &quot;Ho Chi Minh City&quot;, &quot;name&quot;: &quot;Ph\\u01b0\\u1eddng 8&quot;, &quot;name:en&quot;: &quot;Ward 8&quot;, &quot;name:ko&quot;: &quot;8\\ubc29&quot;, &quot;type&quot;: &quot;boundary&quot;, &quot;wikidata&quot;: &quot;Q2375213&quot;, &quot;wikipedia&quot;: &quot;vi:Ph\\u01b0\\u1eddng 8, Ph\\u00fa Nhu\\u1eadn&quot;}, &quot;type&quot;: &quot;Feature&quot;}, {&quot;geometry&quot;: {&quot;coordinates&quot;: [[[106.6785616, 10.8113103], [106.6781344, 10.8113774], [106.6768594, 10.8121494], [106.6760522, 10.8112022], [106.6727587, 10.8141546], [106.672396, 10.813812], [106.6721341, 10.8130494], [106.6720652, 10.8122354], [106.6721306, 10.8117951], [106.672252, 10.8111621], [106.6715986, 10.8100633], [106.6706833, 10.8099331], [106.6706553, 10.808717], [106.6710643, 10.8086673], [106.6710503, 10.8078704], [106.671015, 10.8078567], [106.6706626, 10.807599], [106.6700132, 10.8076717], [106.6699244, 10.8068623], [106.6694714, 10.8066259], [106.6692396, 10.8043923], [106.6689713, 10.8030539], [106.6688106, 10.8031089], [106.668537, 10.8030773], [106.6682929, 10.802906], [106.6680274, 10.8026083], [106.6681031, 10.8024502], [106.6681371, 10.802311], [106.6681343, 10.8022731], [106.6681219, 10.8021071], [106.6679798, 10.8016289], [106.6678233, 10.8011939], [106.6678129, 10.8011614], [106.6677625, 10.8010031], [106.6675908, 10.8008714], [106.6670142, 10.8005947], [106.6674561, 10.8003054], [106.667571, 10.8002412], [106.6679446, 10.8001709], [106.6714467, 10.7998343], [106.6715833, 10.7998218], [106.6738602, 10.7996624], [106.6775583, 10.7993507], [106.6783609, 10.799283], [106.679525, 10.7991987], [106.6799112, 10.7991697], [106.6800319, 10.7991697], [106.6800883, 10.799175], [106.6802479, 10.7992343], [106.6794334, 10.8012346], [106.6793805, 10.8014161], [106.679314, 10.8016446], [106.6792159, 10.8019814], [106.6790646, 10.8027], [106.6790451, 10.8028434], [106.6789788, 10.8033297], [106.6787615, 10.8047248], [106.678504, 10.8063042], [106.6784668, 10.806655], [106.6784638, 10.8066836], [106.6784558, 10.8072843], [106.6784622, 10.8075891], [106.678457, 10.8077691], [106.6784694, 10.8082815], [106.6784762, 10.8097473], [106.6785076, 10.8104941], [106.6785616, 10.8113103]]], &quot;type&quot;: &quot;Polygon&quot;}, &quot;id&quot;: &quot;relation/6227799&quot;, &quot;properties&quot;: {&quot;@id&quot;: &quot;relation/6227799&quot;, &quot;@relations&quot;: [{&quot;rel&quot;: 3851694, &quot;reltags&quot;: {&quot;admin_level&quot;: &quot;6&quot;, &quot;boundary&quot;: &quot;administrative&quot;, &quot;is_in:city&quot;: &quot;Ho Chi Minh City&quot;, &quot;name&quot;: &quot;Qu\\u1eadn Ph\\u00fa Nhu\\u1eadn&quot;, &quot;name:en&quot;: &quot;Phu Nhuan District&quot;, &quot;name:ko&quot;: &quot;\\ud478\\ub204\\uc5b8\\uad70&quot;, &quot;name:zh&quot;: &quot;\\u5bcc\\u6f64\\u90e1&quot;, &quot;name:zh-Hans&quot;: &quot;\\u5bcc\\u6da6\\u90e1&quot;, &quot;name:zh-Hant&quot;: &quot;\\u5bcc\\u6f64\\u90e1&quot;, &quot;type&quot;: &quot;boundary&quot;, &quot;wikidata&quot;: &quot;Q2194003&quot;}, &quot;role&quot;: &quot;subarea&quot;}], &quot;admin_level&quot;: &quot;8&quot;, &quot;boundary&quot;: &quot;administrative&quot;, &quot;is_in:city&quot;: &quot;Ho Chi Minh City&quot;, &quot;name&quot;: &quot;Ph\\u01b0\\u1eddng 9&quot;, &quot;name:en&quot;: &quot;Ward 9&quot;, &quot;name:ko&quot;: &quot;9\\ubc29&quot;, &quot;type&quot;: &quot;boundary&quot;, &quot;wikidata&quot;: &quot;Q1962624&quot;, &quot;wikipedia&quot;: &quot;vi:Ph\\u01b0\\u1eddng 9, Ph\\u00fa Nhu\\u1eadn&quot;}, &quot;type&quot;: &quot;Feature&quot;}, {&quot;geometry&quot;: {&quot;coordinates&quot;: [[[106.6800195, 10.7929503], [106.6778503, 10.7942141], [106.6770585, 10.7946932], [106.6752056, 10.795816], [106.6744202, 10.7962851], [106.6743953, 10.7962352], [106.6733317, 10.7941018], [106.6727572, 10.7929209], [106.6722288, 10.7918895], [106.6720279, 10.7915107], [106.6720602, 10.7914827], [106.6728872, 10.7908651], [106.673445, 10.7904476], [106.6739285, 10.7900997], [106.6739142, 10.7902629], [106.6739631, 10.7903144], [106.67426, 10.7901662], [106.6742895, 10.7902073], [106.6746669, 10.7900049], [106.6746849, 10.7901654], [106.6748836, 10.7901564], [106.6748812, 10.7902185], [106.6751659, 10.7902526], [106.6751556, 10.7903129], [106.6752266, 10.7903201], [106.6753346, 10.790322], [106.6753553, 10.7902461], [106.6758353, 10.7903701], [106.6758789, 10.7903557], [106.6762741, 10.7904995], [106.6763701, 10.7905075], [106.6763718, 10.7905694], [106.6765569, 10.7905904], [106.6765569, 10.7905536], [106.6766159, 10.7905536], [106.6766213, 10.7904376], [106.6767098, 10.7904534], [106.6767393, 10.7904745], [106.6767822, 10.7904824], [106.6768305, 10.7904956], [106.6768197, 10.7905878], [106.6768171, 10.7906352], [106.6768627, 10.7906352], [106.6768975, 10.7906669], [106.6769565, 10.7906932], [106.6769592, 10.7907564], [106.6769994, 10.7907696], [106.6769968, 10.7908328], [106.6771041, 10.7908513], [106.6772757, 10.7908724], [106.6774179, 10.7909172], [106.6775708, 10.7909699], [106.6776164, 10.7909224], [106.6776888, 10.7909013], [106.6777397, 10.7909119], [106.6778256, 10.7909066], [106.6778175, 10.7908697], [106.6778122, 10.7907591], [106.6780798, 10.7907651], [106.6783996, 10.7907881], [106.6783942, 10.7908618], [106.6785471, 10.7909013], [106.6786275, 10.7908776], [106.6786731, 10.7908566], [106.6787643, 10.7908724], [106.6787643, 10.7908355], [106.6788502, 10.7908197], [106.6789843, 10.7908566], [106.6791015, 10.7909213], [106.6792606, 10.7910278], [106.6793196, 10.7910357], [106.679341, 10.7909619], [106.6794537, 10.7910041], [106.6794537, 10.7910357], [106.6795878, 10.7910568], [106.6796334, 10.7909751], [106.6797165, 10.7909883], [106.6797407, 10.7910357], [106.6797675, 10.7911148], [106.679805, 10.7911306], [106.6798748, 10.7911806], [106.6801012, 10.7912776], [106.6802369, 10.7912518], [106.680312, 10.7912518], [106.6803871, 10.7912966], [106.6804515, 10.791344], [106.6805185, 10.7913545], [106.680599, 10.7912834], [106.6808055, 10.7913598], [106.6808779, 10.7912307], [106.6811408, 10.791286], [106.6816879, 10.7912725], [106.6818715, 10.7914819], [106.6819614, 10.7915707], [106.6813341, 10.792142], [106.6811132, 10.7923011], [106.6807896, 10.792485], [106.6807142, 10.7925351], [106.6800195, 10.7929503]]], &quot;type&quot;: &quot;Polygon&quot;}, &quot;id&quot;: &quot;relation/6227865&quot;, &quot;properties&quot;: {&quot;@id&quot;: &quot;relation/6227865&quot;, &quot;@relations&quot;: [{&quot;rel&quot;: 3851694, &quot;reltags&quot;: {&quot;admin_level&quot;: &quot;6&quot;, &quot;boundary&quot;: &quot;administrative&quot;, &quot;is_in:city&quot;: &quot;Ho Chi Minh City&quot;, &quot;name&quot;: &quot;Qu\\u1eadn Ph\\u00fa Nhu\\u1eadn&quot;, &quot;name:en&quot;: &quot;Phu Nhuan District&quot;, &quot;name:ko&quot;: &quot;\\ud478\\ub204\\uc5b8\\uad70&quot;, &quot;name:zh&quot;: &quot;\\u5bcc\\u6f64\\u90e1&quot;, &quot;name:zh-Hans&quot;: &quot;\\u5bcc\\u6da6\\u90e1&quot;, &quot;name:zh-Hant&quot;: &quot;\\u5bcc\\u6f64\\u90e1&quot;, &quot;type&quot;: &quot;boundary&quot;, &quot;wikidata&quot;: &quot;Q2194003&quot;}, &quot;role&quot;: &quot;subarea&quot;}], &quot;admin_level&quot;: &quot;8&quot;, &quot;boundary&quot;: &quot;administrative&quot;, &quot;is_in:city&quot;: &quot;Ho Chi Minh City&quot;, &quot;name&quot;: &quot;Ph\\u01b0\\u1eddng 11&quot;, &quot;name:en&quot;: &quot;Ward 11&quot;, &quot;name:ko&quot;: &quot;11\\ubc29&quot;, &quot;type&quot;: &quot;boundary&quot;, &quot;wikidata&quot;: &quot;Q2433750&quot;, &quot;wikipedia&quot;: &quot;vi:Ph\\u01b0\\u1eddng 11, Ph\\u00fa Nhu\\u1eadn&quot;}, &quot;type&quot;: &quot;Feature&quot;}, {&quot;geometry&quot;: {&quot;coordinates&quot;: [[[106.6659902, 10.7907693], [106.6661001, 10.7907457], [106.6661909, 10.7907143], [106.6662831, 10.7906709], [106.6665546, 10.7904963], [106.6666285, 10.7904405], [106.6667433, 10.7903303], [106.666802, 10.7902196], [106.6668169, 10.7901092], [106.6668017, 10.7899871], [106.6667487, 10.7898232], [106.6667163, 10.789668], [106.6667398, 10.7895588], [106.6668168, 10.7894862], [106.6671277, 10.7893016], [106.6681669, 10.7888163], [106.6693492, 10.7883824], [106.6707778, 10.7879207], [106.6708127, 10.7881431], [106.6710473, 10.7893707], [106.6713313, 10.7893383], [106.6714399, 10.7893435], [106.6715324, 10.7893409], [106.6716746, 10.7893514], [106.6718731, 10.7893567], [106.6718731, 10.7894002], [106.6719844, 10.7894397], [106.6719911, 10.7894779], [106.6720689, 10.7894858], [106.6720742, 10.7895227], [106.672156, 10.7895385], [106.6721587, 10.7896479], [106.6721265, 10.7897796], [106.6721614, 10.7897789], [106.6722419, 10.7897934], [106.6722942, 10.789771], [106.672494, 10.789775], [106.6726777, 10.7898132], [106.6727046, 10.7898369], [106.6727502, 10.7898593], [106.6728145, 10.7898738], [106.6729111, 10.7898922], [106.6729781, 10.7898935], [106.6730667, 10.7898791], [106.6731391, 10.7898896], [106.6732182, 10.7899094], [106.6732611, 10.7899357], [106.673304, 10.7899133], [106.6733268, 10.7899647], [106.6733738, 10.7900042], [106.6734234, 10.7900108], [106.6734569, 10.789995], [106.6735173, 10.7900174], [106.6735642, 10.7900279], [106.6736339, 10.7899963], [106.6736943, 10.7899792], [106.6737439, 10.7899449], [106.6738698, 10.7900179], [106.6739285, 10.7900997], [106.673445, 10.7904476], [106.6728872, 10.7908651], [106.6720602, 10.7914827], [106.6720279, 10.7915107], [106.6720054, 10.7915301], [106.6716136, 10.7918311], [106.6706798, 10.7925108], [106.6705631, 10.7925964], [106.670138, 10.7929153], [106.6698415, 10.7931289], [106.6697403, 10.7932032], [106.6695185, 10.7933738], [106.6690269, 10.7937342], [106.6684768, 10.7941616], [106.6682211, 10.793784], [106.666174, 10.7911473], [106.6659559, 10.7908605], [106.6659902, 10.7907693]]], &quot;type&quot;: &quot;Polygon&quot;}, &quot;id&quot;: &quot;relation/6227867&quot;, &quot;properties&quot;: {&quot;@id&quot;: &quot;relation/6227867&quot;, &quot;@relations&quot;: [{&quot;rel&quot;: 3851694, &quot;reltags&quot;: {&quot;admin_level&quot;: &quot;6&quot;, &quot;boundary&quot;: &quot;administrative&quot;, &quot;is_in:city&quot;: &quot;Ho Chi Minh City&quot;, &quot;name&quot;: &quot;Qu\\u1eadn Ph\\u00fa Nhu\\u1eadn&quot;, &quot;name:en&quot;: &quot;Phu Nhuan District&quot;, &quot;name:ko&quot;: &quot;\\ud478\\ub204\\uc5b8\\uad70&quot;, &quot;name:zh&quot;: &quot;\\u5bcc\\u6f64\\u90e1&quot;, &quot;name:zh-Hans&quot;: &quot;\\u5bcc\\u6da6\\u90e1&quot;, &quot;name:zh-Hant&quot;: &quot;\\u5bcc\\u6f64\\u90e1&quot;, &quot;type&quot;: &quot;boundary&quot;, &quot;wikidata&quot;: &quot;Q2194003&quot;}, &quot;role&quot;: &quot;subarea&quot;}], &quot;admin_level&quot;: &quot;8&quot;, &quot;boundary&quot;: &quot;administrative&quot;, &quot;is_in:city&quot;: &quot;Ho Chi Minh City&quot;, &quot;name&quot;: &quot;Ph\\u01b0\\u1eddng 13&quot;, &quot;name:en&quot;: &quot;Ward 13&quot;, &quot;type&quot;: &quot;boundary&quot;, &quot;wikidata&quot;: &quot;Q1946400&quot;, &quot;wikipedia&quot;: &quot;vi:Ph\\u01b0\\u1eddng 13, Ph\\u00fa Nhu\\u1eadn&quot;}, &quot;type&quot;: &quot;Feature&quot;}, {&quot;geometry&quot;: {&quot;coordinates&quot;: [[[106.6802479, 10.7992343], [106.6800883, 10.799175], [106.6800319, 10.7991697], [106.6799112, 10.7991697], [106.679525, 10.7991987], [106.6783609, 10.799283], [106.6775583, 10.7993507], [106.6776594, 10.7974052], [106.6778126, 10.7949611], [106.6778503, 10.7942141], [106.6800195, 10.7929503], [106.680348, 10.7934613], [106.6804154, 10.7935771], [106.6808091, 10.7940126], [106.6809625, 10.7941961], [106.6815324, 10.7954423], [106.6815646, 10.7954924], [106.6818946, 10.7958578], [106.6815995, 10.7962116], [106.6814724, 10.796473], [106.6814259, 10.7965935], [106.6811503, 10.7971997], [106.680563, 10.7985301], [106.6802479, 10.7992343]]], &quot;type&quot;: &quot;Polygon&quot;}, &quot;id&quot;: &quot;relation/8393477&quot;, &quot;properties&quot;: {&quot;@id&quot;: &quot;relation/8393477&quot;, &quot;@relations&quot;: [{&quot;rel&quot;: 3851694, &quot;reltags&quot;: {&quot;admin_level&quot;: &quot;6&quot;, &quot;boundary&quot;: &quot;administrative&quot;, &quot;is_in:city&quot;: &quot;Ho Chi Minh City&quot;, &quot;name&quot;: &quot;Qu\\u1eadn Ph\\u00fa Nhu\\u1eadn&quot;, &quot;name:en&quot;: &quot;Phu Nhuan District&quot;, &quot;name:ko&quot;: &quot;\\ud478\\ub204\\uc5b8\\uad70&quot;, &quot;name:zh&quot;: &quot;\\u5bcc\\u6f64\\u90e1&quot;, &quot;name:zh-Hans&quot;: &quot;\\u5bcc\\u6da6\\u90e1&quot;, &quot;name:zh-Hant&quot;: &quot;\\u5bcc\\u6f64\\u90e1&quot;, &quot;type&quot;: &quot;boundary&quot;, &quot;wikidata&quot;: &quot;Q2194003&quot;}, &quot;role&quot;: &quot;subarea&quot;}], &quot;admin_level&quot;: &quot;8&quot;, &quot;boundary&quot;: &quot;administrative&quot;, &quot;is_in:city&quot;: &quot;Ho Chi Minh City&quot;, &quot;name&quot;: &quot;Ph\\u01b0\\u1eddng 15&quot;, &quot;name:ko&quot;: &quot;15\\ubc29&quot;, &quot;type&quot;: &quot;boundary&quot;, &quot;wikidata&quot;: &quot;Q2034843&quot;, &quot;wikipedia&quot;: &quot;vi:Ph\\u01b0\\u1eddng 15, Ph\\u00fa Nhu\\u1eadn&quot;}, &quot;type&quot;: &quot;Feature&quot;}, {&quot;geometry&quot;: {&quot;coordinates&quot;: [[[106.6800195, 10.7929503], [106.6807142, 10.7925351], [106.6807896, 10.792485], [106.6811132, 10.7923011], [106.6813341, 10.792142], [106.6819614, 10.7915707], [106.6820491, 10.7916575], [106.6822586, 10.791826], [106.6825809, 10.7920281], [106.683071, 10.7922746], [106.6835234, 10.7924087], [106.6839467, 10.7924625], [106.6843412, 10.792439], [106.6846537, 10.792394], [106.6855707, 10.7922353], [106.6857326, 10.7922396], [106.6858743, 10.79227], [106.6859844, 10.7923285], [106.6860645, 10.7924021], [106.6861391, 10.7924956], [106.6836499, 10.7944566], [106.6826423, 10.7952664], [106.6820095, 10.7957678], [106.6818946, 10.7958578], [106.6815646, 10.7954924], [106.6815324, 10.7954423], [106.6809625, 10.7941961], [106.6808091, 10.7940126], [106.6804154, 10.7935771], [106.680348, 10.7934613], [106.6800195, 10.7929503]]], &quot;type&quot;: &quot;Polygon&quot;}, &quot;id&quot;: &quot;relation/8393478&quot;, &quot;properties&quot;: {&quot;@id&quot;: &quot;relation/8393478&quot;, &quot;@relations&quot;: [{&quot;rel&quot;: 3851694, &quot;reltags&quot;: {&quot;admin_level&quot;: &quot;6&quot;, &quot;boundary&quot;: &quot;administrative&quot;, &quot;is_in:city&quot;: &quot;Ho Chi Minh City&quot;, &quot;name&quot;: &quot;Qu\\u1eadn Ph\\u00fa Nhu\\u1eadn&quot;, &quot;name:en&quot;: &quot;Phu Nhuan District&quot;, &quot;name:ko&quot;: &quot;\\ud478\\ub204\\uc5b8\\uad70&quot;, &quot;name:zh&quot;: &quot;\\u5bcc\\u6f64\\u90e1&quot;, &quot;name:zh-Hans&quot;: &quot;\\u5bcc\\u6da6\\u90e1&quot;, &quot;name:zh-Hant&quot;: &quot;\\u5bcc\\u6f64\\u90e1&quot;, &quot;type&quot;: &quot;boundary&quot;, &quot;wikidata&quot;: &quot;Q2194003&quot;}, &quot;role&quot;: &quot;subarea&quot;}], &quot;admin_level&quot;: &quot;8&quot;, &quot;boundary&quot;: &quot;administrative&quot;, &quot;is_in:city&quot;: &quot;Ho Chi Minh City&quot;, &quot;name&quot;: &quot;Ph\\u01b0\\u1eddng 17&quot;, &quot;type&quot;: &quot;boundary&quot;, &quot;wikidata&quot;: &quot;Q2209747&quot;, &quot;wikipedia&quot;: &quot;vi:Ph\\u01b0\\u1eddng 17, Ph\\u00fa Nhu\\u1eadn&quot;}, &quot;type&quot;: &quot;Feature&quot;}], &quot;generator&quot;: &quot;overpass-turbo&quot;, &quot;timestamp&quot;: &quot;2024-05-08T14:16:30Z&quot;, &quot;type&quot;: &quot;FeatureCollection&quot;});\n",
       "\n",
       "        \n",
       "    \n",
       "            geo_json_1fe42f01e2ecf3e7ac490d0e5b157316.addTo(feature_group_70172df5725f6184bff7224dda0c9af8);\n",
       "        \n",
       "    \n",
       "            feature_group_70172df5725f6184bff7224dda0c9af8.addTo(map_60668b294fbec506bd26e5ab3db010f1);\n",
       "        \n",
       "    \n",
       "            var feature_group_913e911e6ad1acfd5d75d270ecb91e8a = L.featureGroup(\n",
       "                {}\n",
       "            );\n",
       "        \n",
       "    \n",
       "        function geo_json_7676657e143fc7bd4cd5b22bab99e17c_styler(feature) {\n",
       "            switch(feature.id) {\n",
       "                default:\n",
       "                    return {&quot;color&quot;: &quot;red&quot;, &quot;weight&quot;: 5};\n",
       "            }\n",
       "        }\n",
       "\n",
       "        function geo_json_7676657e143fc7bd4cd5b22bab99e17c_onEachFeature(feature, layer) {\n",
       "            layer.on({\n",
       "            });\n",
       "        };\n",
       "        var geo_json_7676657e143fc7bd4cd5b22bab99e17c = L.geoJson(null, {\n",
       "                onEachFeature: geo_json_7676657e143fc7bd4cd5b22bab99e17c_onEachFeature,\n",
       "            \n",
       "                style: geo_json_7676657e143fc7bd4cd5b22bab99e17c_styler,\n",
       "        });\n",
       "\n",
       "        function geo_json_7676657e143fc7bd4cd5b22bab99e17c_add (data) {\n",
       "            geo_json_7676657e143fc7bd4cd5b22bab99e17c\n",
       "                .addData(data);\n",
       "        }\n",
       "            geo_json_7676657e143fc7bd4cd5b22bab99e17c_add({&quot;features&quot;: [{&quot;geometry&quot;: {&quot;coordinates&quot;: [[106.666376, 10.804394], [106.666423, 10.80457], [106.666452, 10.804677], [106.666461, 10.804713], [106.666483, 10.804797], [106.66651, 10.804892], [106.666521, 10.804933], [106.666613, 10.805268], [106.666637, 10.805354], [106.666652, 10.805411], [106.666741, 10.805732], [106.666823, 10.806032], [106.666839, 10.806056], [106.666862, 10.806071], [106.666891, 10.806078], [106.667135, 10.806045], [106.667201, 10.806035], [106.667553, 10.805987], [106.667758, 10.805958], [106.667831, 10.805948], [106.668057, 10.805917], [106.668088, 10.805917], [106.668121, 10.80592], [106.668156, 10.805931], [106.668183, 10.805948], [106.668205, 10.805977], [106.668212, 10.806005], [106.66826, 10.806274], [106.668272, 10.806339], [106.668282, 10.806391], [106.668305, 10.806518], [106.668313, 10.806567], [106.66832, 10.806605], [106.668365, 10.806852], [106.668421, 10.807165], [106.668534, 10.807788], [106.668693, 10.808673], [106.668712, 10.808704], [106.66874, 10.808728], [106.668775, 10.808744], [106.668807, 10.808749], [106.669014, 10.808742], [106.669641, 10.808719], [106.670673, 10.808682], [106.670756, 10.80868], [106.67079, 10.808678], [106.671253, 10.808662], [106.671351, 10.808658], [106.67147, 10.808654], [106.671537, 10.808645], [106.671627, 10.808622], [106.671731, 10.808589], [106.671824, 10.808551], [106.671937, 10.808489], [106.672038, 10.808429], [106.672146, 10.808357], [106.672221, 10.808307], [106.67235, 10.808221], [106.672582, 10.808068], [106.672676, 10.808005], [106.67271, 10.807988], [106.672749, 10.807971], [106.672799, 10.807955], [106.672855, 10.807949], [106.672903, 10.807952], [106.672945, 10.80796], [106.672982, 10.807972], [106.673296, 10.808074], [106.67334, 10.80809], [106.673388, 10.808111], [106.673427, 10.808132], [106.673472, 10.808163], [106.673509, 10.808195], [106.673542, 10.808231], [106.673573, 10.80827], [106.673638, 10.808349], [106.67402, 10.808105], [106.674063, 10.808076], [106.674278, 10.807932], [106.674326, 10.807899], [106.674432, 10.807829], [106.674918, 10.807504], [106.675406, 10.807178], [106.675885, 10.806858], [106.675909, 10.806843], [106.676242, 10.806625], [106.676479, 10.80647], [106.676597, 10.806627], [106.677262, 10.806581], [106.677678, 10.806551], [106.677856, 10.80654], [106.67784, 10.8063], [106.678504, 10.806304], [106.678546, 10.806046], [106.678697, 10.805095], [106.678761, 10.804725], [106.678764, 10.804672], [106.67877, 10.804644], [106.678802, 10.804474], [106.678832, 10.804317], [106.678899, 10.803867], [106.678912, 10.803779], [106.678922, 10.803706], [106.678935, 10.803624], [106.678979, 10.80333], [106.678987, 10.803267], [106.679045, 10.802843], [106.679058, 10.802746], [106.679065, 10.8027], [106.679069, 10.802679], [106.67912, 10.802408], [106.679126, 10.802376], [106.679159, 10.802232], [106.679199, 10.802057], [106.679216, 10.801981], [106.679314, 10.801645], [106.67938, 10.801416], [106.679433, 10.801235], [106.679481, 10.801134], [106.67953, 10.801029], [106.679627, 10.800808], [106.679639, 10.800777], [106.67971, 10.800586], [106.679715, 10.800575], [106.679722, 10.800556], [106.679727, 10.800541], [106.67977, 10.800418], [106.67984, 10.800268], [106.679912, 10.800112], [106.680019, 10.799877], [106.680027, 10.79986], [106.680164, 10.799478], [106.680237, 10.799281], [106.680278, 10.799187], [106.68031, 10.799116], [106.680581, 10.798518], [106.680718, 10.798208], [106.680935, 10.797712], [106.681166, 10.797194], [106.681335, 10.796821], [106.681472, 10.796473], [106.681607, 10.796217], [106.681903, 10.79586], [106.681958, 10.795816], [106.682049, 10.795745], [106.682203, 10.795623], [106.682429, 10.795442], [106.682642, 10.795266], [106.683043, 10.794951], [106.6833, 10.794753], [106.683462, 10.794625], [106.683656, 10.794471], [106.683941, 10.794251], [106.684298, 10.793966], [106.684414, 10.793871], [106.684448, 10.793845], [106.684619, 10.79371], [106.684875, 10.793506], [106.685206, 10.793243], [106.685231, 10.793187], [106.685506, 10.792974], [106.685363, 10.792797]], &quot;type&quot;: &quot;LineString&quot;}, &quot;id&quot;: &quot;0&quot;, &quot;type&quot;: &quot;Feature&quot;}], &quot;type&quot;: &quot;FeatureCollection&quot;});\n",
       "\n",
       "        \n",
       "    \n",
       "            geo_json_7676657e143fc7bd4cd5b22bab99e17c.addTo(feature_group_913e911e6ad1acfd5d75d270ecb91e8a);\n",
       "        \n",
       "    \n",
       "            feature_group_913e911e6ad1acfd5d75d270ecb91e8a.addTo(map_60668b294fbec506bd26e5ab3db010f1);\n",
       "        \n",
       "    \n",
       "            var layer_control_a20fca9c0f5df4edd5fa117dce124737_layers = {\n",
       "                base_layers : {\n",
       "                    &quot;openstreetmap&quot; : tile_layer_e3d0de2172e92eb7b29f1b763eedadc9,\n",
       "                },\n",
       "                overlays :  {\n",
       "                    &quot;Administrator Layer&quot; : feature_group_70172df5725f6184bff7224dda0c9af8,\n",
       "                    &quot;LineString&quot; : feature_group_913e911e6ad1acfd5d75d270ecb91e8a,\n",
       "                },\n",
       "            };\n",
       "            let layer_control_a20fca9c0f5df4edd5fa117dce124737 = L.control.layers(\n",
       "                layer_control_a20fca9c0f5df4edd5fa117dce124737_layers.base_layers,\n",
       "                layer_control_a20fca9c0f5df4edd5fa117dce124737_layers.overlays,\n",
       "                {&quot;autoZIndex&quot;: true, &quot;collapsed&quot;: true, &quot;position&quot;: &quot;topright&quot;}\n",
       "            ).addTo(map_60668b294fbec506bd26e5ab3db010f1);\n",
       "\n",
       "        \n",
       "&lt;/script&gt;\n",
       "&lt;/html&gt;\" style=\"position:absolute;width:100%;height:100%;left:0;top:0;border:none !important;\" allowfullscreen webkitallowfullscreen mozallowfullscreen></iframe></div></div>"
      ],
      "text/plain": [
       "<folium.folium.Map at 0x1ad5b8338b0>"
      ]
     },
     "metadata": {},
     "output_type": "display_data"
    }
   ],
   "source": [
    "display(map_dijkstra)"
   ]
  },
  {
   "cell_type": "code",
   "execution_count": 8,
   "metadata": {},
   "outputs": [
    {
     "name": "stdout",
     "output_type": "stream",
     "text": [
      "\n",
      "===>>> Calculating shortest-path between 91 and 5422 <<<===\n",
      "Please wating ...\n"
     ]
    }
   ],
   "source": [
    "path_bellman_ford = run_find_path(slo, start_vertex, end_vertex, 'bellman_ford')\n",
    "map_bellman_ford = show_map(path_bellman_ford)"
   ]
  },
  {
   "cell_type": "code",
   "execution_count": null,
   "metadata": {},
   "outputs": [],
   "source": [
    "display(map_bellman_ford)"
   ]
  },
  {
   "cell_type": "code",
   "execution_count": null,
   "metadata": {},
   "outputs": [],
   "source": [
    "path_floyd_warshall = run_find_path(slo, start_vertex, end_vertex, 'floyd_warshall')\n",
    "map_floyd_warshall = show_map(path_floyd_warshall)"
   ]
  },
  {
   "cell_type": "code",
   "execution_count": null,
   "metadata": {},
   "outputs": [],
   "source": [
    "display(map_floyd_warshall)"
   ]
  }
 ],
 "metadata": {
  "kernelspec": {
   "display_name": "base",
   "language": "python",
   "name": "python3"
  },
  "language_info": {
   "codemirror_mode": {
    "name": "ipython",
    "version": 3
   },
   "file_extension": ".py",
   "mimetype": "text/x-python",
   "name": "python",
   "nbconvert_exporter": "python",
   "pygments_lexer": "ipython3",
   "version": "3.10.11"
  }
 },
 "nbformat": 4,
 "nbformat_minor": 2
}
